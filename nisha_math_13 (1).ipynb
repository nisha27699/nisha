{
 "cells": [
  {
   "cell_type": "code",
   "execution_count": null,
   "metadata": {},
   "outputs": [],
   "source": [
    "#Addition of two Float numbers"
   ]
  },
  {
   "cell_type": "code",
   "execution_count": 4,
   "metadata": {},
   "outputs": [
    {
     "name": "stdout",
     "output_type": "stream",
     "text": [
      "The sum of 23.21 and 12.23 is 35.44\n"
     ]
    }
   ],
   "source": [
    "num1 =23.21\n",
    "num2 =12.23\n",
    "sum  =num1+num2\n",
    "print('The sum of {0} and {1} is {2}'.format(num1,num2,sum))"
   ]
  },
  {
   "cell_type": "code",
   "execution_count": null,
   "metadata": {},
   "outputs": [],
   "source": [
    "#Subtraction of two Float numbers"
   ]
  },
  {
   "cell_type": "code",
   "execution_count": 16,
   "metadata": {},
   "outputs": [
    {
     "name": "stdout",
     "output_type": "stream",
     "text": [
      "The subtraction of 23.21 and 12.23 is 10.98\n"
     ]
    }
   ],
   "source": [
    "num1 =23.21\n",
    "num2 =12.23\n",
    "sub  =num1-num2\n",
    "print('The subtraction of {0} and {1} is {2}'.format(num1,num2,sub))"
   ]
  },
  {
   "cell_type": "code",
   "execution_count": null,
   "metadata": {},
   "outputs": [],
   "source": [
    "#Adition of two Integer numbers"
   ]
  },
  {
   "cell_type": "code",
   "execution_count": 6,
   "metadata": {},
   "outputs": [
    {
     "name": "stdout",
     "output_type": "stream",
     "text": [
      "The sum of 10 and 20 is 30\n"
     ]
    }
   ],
   "source": [
    "num1 =10\n",
    "num2 =20\n",
    "sum  =num1+num2\n",
    "print('The sum of {0} and {1} is {2}'.format(num1,num2,sum))"
   ]
  },
  {
   "cell_type": "code",
   "execution_count": null,
   "metadata": {},
   "outputs": [],
   "source": [
    "#Subtraction of two Integer numbers"
   ]
  },
  {
   "cell_type": "code",
   "execution_count": 17,
   "metadata": {},
   "outputs": [
    {
     "name": "stdout",
     "output_type": "stream",
     "text": [
      "The subtraction of 50 and 20 is 30\n"
     ]
    }
   ],
   "source": [
    "num1 =50\n",
    "num2 =20\n",
    "sub =num1-num2\n",
    "print('The subtraction of {0} and {1} is {2}'.format(num1,num2,sub))"
   ]
  },
  {
   "cell_type": "code",
   "execution_count": null,
   "metadata": {},
   "outputs": [],
   "source": [
    "#Let us find the value of \"pi\""
   ]
  },
  {
   "cell_type": "code",
   "execution_count": 10,
   "metadata": {},
   "outputs": [],
   "source": [
    "import math"
   ]
  },
  {
   "cell_type": "code",
   "execution_count": 11,
   "metadata": {},
   "outputs": [
    {
     "name": "stdout",
     "output_type": "stream",
     "text": [
      "The value of pi is 3.141592653589793\n"
     ]
    }
   ],
   "source": [
    "print(\"The value of pi is\",math.pi)"
   ]
  },
  {
   "cell_type": "code",
   "execution_count": null,
   "metadata": {},
   "outputs": [],
   "source": [
    "#Multlpication of two Integer numbers"
   ]
  },
  {
   "cell_type": "code",
   "execution_count": 14,
   "metadata": {},
   "outputs": [
    {
     "name": "stdout",
     "output_type": "stream",
     "text": [
      "The Multiplication of 50 and 20 is 1000\n"
     ]
    }
   ],
   "source": [
    "num1 =50\n",
    "num2 =20\n",
    "mul =num1 * num2\n",
    "print('The Multiplication of {0} and {1} is {2}'.format(num1,num2,mul))"
   ]
  },
  {
   "cell_type": "code",
   "execution_count": null,
   "metadata": {},
   "outputs": [],
   "source": [
    "#Multlpication of two float numbers"
   ]
  },
  {
   "cell_type": "code",
   "execution_count": 15,
   "metadata": {},
   "outputs": [
    {
     "name": "stdout",
     "output_type": "stream",
     "text": [
      "The multilpication of 50.2 and 2.3 is 115.46\n"
     ]
    }
   ],
   "source": [
    "num1 =50.2\n",
    "num2 =2.3\n",
    "mul =num1 * num2\n",
    "print('The multilpication of {0} and {1} is {2}'.format(num1,num2,mul))"
   ]
  },
  {
   "cell_type": "code",
   "execution_count": null,
   "metadata": {},
   "outputs": [],
   "source": [
    "#Addition of numbers by users input"
   ]
  },
  {
   "cell_type": "markdown",
   "metadata": {},
   "source": []
  },
  {
   "cell_type": "code",
   "execution_count": 18,
   "metadata": {},
   "outputs": [
    {
     "name": "stdout",
     "output_type": "stream",
     "text": [
      "enter first number:20.3\n",
      "enter second number:20.3\n",
      "40.6\n"
     ]
    }
   ],
   "source": [
    "num1=input('enter first number:')\n",
    "num2=input('enter second number:')\n",
    "sum=float(num1)+float(num2)\n",
    "print(sum)"
   ]
  },
  {
   "cell_type": "code",
   "execution_count": 19,
   "metadata": {},
   "outputs": [
    {
     "name": "stdout",
     "output_type": "stream",
     "text": [
      "enter first number:40.0\n",
      "enter second number:20.0\n",
      "20.0\n"
     ]
    }
   ],
   "source": [
    "num1 =input('enter first number:')\n",
    "num2 =input('enter second number:')\n",
    "sub =float(num1) - float(num2)\n",
    "print(sub)"
   ]
  },
  {
   "cell_type": "markdown",
   "metadata": {},
   "source": []
  },
  {
   "cell_type": "code",
   "execution_count": 20,
   "metadata": {},
   "outputs": [
    {
     "name": "stdout",
     "output_type": "stream",
     "text": [
      "enter first number:20.0\n",
      "enter second number:2.0\n",
      "40.0\n"
     ]
    }
   ],
   "source": [
    "num1 =input('enter first number:')\n",
    "num2 =input('enter second number:')\n",
    "mul=float(num1) * float(num2)\n",
    "print(mul)"
   ]
  },
  {
   "cell_type": "code",
   "execution_count": 21,
   "metadata": {},
   "outputs": [
    {
     "name": "stdout",
     "output_type": "stream",
     "text": [
      "enter first number:50.0\n",
      "enter second number:2.0\n",
      "25.0\n"
     ]
    }
   ],
   "source": [
    "num1 =input('enter first number:')\n",
    "num2 =input('enter second number:')\n",
    "div=float(num1) /float(num2)\n",
    "print(div)"
   ]
  },
  {
   "cell_type": "code",
   "execution_count": 22,
   "metadata": {},
   "outputs": [
    {
     "name": "stdout",
     "output_type": "stream",
     "text": [
      "The sum of 23 and 12 is 35\n"
     ]
    }
   ],
   "source": [
    "num1 =23\n",
    "num2 =12\n",
    "sum  =num1+num2\n",
    "print('The sum of {0} and {1} is {2}'.format(num1,num2,sum))\n",
    "\n",
    "\n",
    "\n",
    "\n",
    "\n",
    "\n",
    "\n",
    "\n"
   ]
  },
  {
   "cell_type": "code",
   "execution_count": 24,
   "metadata": {},
   "outputs": [
    {
     "name": "stdout",
     "output_type": "stream",
     "text": [
      "The subtraction of 23 and 12 is 11\n"
     ]
    }
   ],
   "source": [
    "num1 =23\n",
    "num2 =12\n",
    "sub =num1 - num2\n",
    "print('The subtraction of {0} and {1} is {2}'.format(num1,num2,sub))"
   ]
  },
  {
   "cell_type": "code",
   "execution_count": 25,
   "metadata": {},
   "outputs": [
    {
     "name": "stdout",
     "output_type": "stream",
     "text": [
      "The Multiplication of 23 and 12 is 276\n"
     ]
    }
   ],
   "source": [
    "num1 =23\n",
    "num2 =12\n",
    "mul =num1 * num2\n",
    "print('The Multiplication of {0} and {1} is {2}'.format(num1,num2,mul))"
   ]
  },
  {
   "cell_type": "code",
   "execution_count": 27,
   "metadata": {},
   "outputs": [
    {
     "name": "stdout",
     "output_type": "stream",
     "text": [
      "The Division of 20 and 10 is 2.0\n"
     ]
    }
   ],
   "source": [
    "num1 =20\n",
    "num2 =10\n",
    "div =num1 / num2\n",
    "print('The Division of {0} and {1} is {2}'.format(num1,num2,div))"
   ]
  },
  {
   "cell_type": "code",
   "execution_count": 34,
   "metadata": {},
   "outputs": [
    {
     "name": "stdout",
     "output_type": "stream",
     "text": [
      "50 is a gretest number\n"
     ]
    }
   ],
   "source": [
    "num1 =50\n",
    "num2 =20\n",
    "if num1>num2:\n",
    "    print(num1,\"is a gretest number\")\n",
    "else:\n",
    "    print(num2,\"is a gretest number\")"
   ]
  },
  {
   "cell_type": "code",
   "execution_count": 35,
   "metadata": {},
   "outputs": [
    {
     "name": "stdout",
     "output_type": "stream",
     "text": [
      "20 is a smallest number\n"
     ]
    }
   ],
   "source": [
    "num1 =50\n",
    "num2 =20\n",
    "if num1<num2:\n",
    "    print(num1,\"is a smallest number\")\n",
    "else:\n",
    "    print(num2,\"is a smallest number\")"
   ]
  },
  {
   "cell_type": "code",
   "execution_count": 39,
   "metadata": {},
   "outputs": [
    {
     "name": "stdout",
     "output_type": "stream",
     "text": [
      "50 is a gretest number\n"
     ]
    }
   ],
   "source": [
    "num1 =50\n",
    "num2 =20\n",
    "num3 =10\n",
    "if (num1>=num2) and (num1>=num3):\n",
    "    print(num1,\"is a gretest number\")\n",
    "elif(num2>=num1) and (num2>=num3):\n",
    "    print(num2,\"is a gretest number\")\n",
    "else:\n",
    "    print(num3,\"is the gretest number\")"
   ]
  },
  {
   "cell_type": "code",
   "execution_count": 40,
   "metadata": {},
   "outputs": [
    {
     "name": "stdout",
     "output_type": "stream",
     "text": [
      "10 is the smallest number\n"
     ]
    }
   ],
   "source": [
    "num1 =50\n",
    "num2 =20\n",
    "num3 =10\n",
    "if (num1<=num2) and (num1<=num3):\n",
    "    print(num1,\"is a smallest number\")\n",
    "elif(num2<=num1) and (num2<=num3):\n",
    "    print(num2,\"is a smallest number\")\n",
    "else:\n",
    "    print(num3,\"is the smallest number\")"
   ]
  },
  {
   "cell_type": "code",
   "execution_count": 41,
   "metadata": {},
   "outputs": [
    {
     "name": "stdout",
     "output_type": "stream",
     "text": [
      "     June 1999\n",
      "Mo Tu We Th Fr Sa Su\n",
      "    1  2  3  4  5  6\n",
      " 7  8  9 10 11 12 13\n",
      "14 15 16 17 18 19 20\n",
      "21 22 23 24 25 26 27\n",
      "28 29 30\n",
      "\n"
     ]
    }
   ],
   "source": [
    "import calendar\n",
    "\n",
    "yy =1999\n",
    "mm =6\n",
    "print(calendar.month(yy,mm))"
   ]
  },
  {
   "cell_type": "code",
   "execution_count": 1,
   "metadata": {},
   "outputs": [
    {
     "name": "stdout",
     "output_type": "stream",
     "text": [
      "hello to all welcome to the world of python and let us all come together to learn new language\n"
     ]
    }
   ],
   "source": [
    "print(\"hello to all welcome to the world of python and let us all come together to learn new language\")"
   ]
  },
  {
   "cell_type": "code",
   "execution_count": 2,
   "metadata": {},
   "outputs": [],
   "source": [
    "name='hello to all welcome to the world of python and let us all come together to learn new language'"
   ]
  },
  {
   "cell_type": "code",
   "execution_count": 3,
   "metadata": {},
   "outputs": [
    {
     "name": "stdout",
     "output_type": "stream",
     "text": [
      "Hello To All Welcome To The World Of Python And Let Us All Come Together To Learn New Language\n"
     ]
    }
   ],
   "source": [
    "print(name.title())"
   ]
  },
  {
   "cell_type": "code",
   "execution_count": 9,
   "metadata": {},
   "outputs": [
    {
     "name": "stdout",
     "output_type": "stream",
     "text": [
      "the value of num1 before swapping:10\n",
      "the value of num2 before swapping:20\n",
      "=================================================\n",
      "the value of num1 after swapping:20\n",
      "the value of num2 after swapping:10\n"
     ]
    }
   ],
   "source": [
    "num1 =10\n",
    "num2 =20\n",
    "\n",
    "print('the value of num1 before swapping:{}'.format(num1))\n",
    "print('the value of num2 before swapping:{}'.format(num2))\n",
    "print('=================================================')\n",
    "temp =num1\n",
    "num1 =num2\n",
    "num2 =temp\n",
    "print('the value of num1 after swapping:{}'.format(num1))\n",
    "print('the value of num2 after swapping:{}'.format(num2))"
   ]
  },
  {
   "cell_type": "markdown",
   "metadata": {},
   "source": []
  },
  {
   "cell_type": "code",
   "execution_count": 11,
   "metadata": {},
   "outputs": [
    {
     "name": "stdout",
     "output_type": "stream",
     "text": [
      "enter first number:34\n",
      "enter second number:56\n",
      "-------------------------------------------------\n",
      "the value of num1 before swapping:34\n",
      "the value of num2 before swapping:56\n",
      "=================================================\n",
      "the value of num1 after swapping:56\n",
      "the value of num2 after swapping:34\n"
     ]
    }
   ],
   "source": [
    "num1 =input('enter first number:')\n",
    "num2 =input('enter second number:')\n",
    "print('-------------------------------------------------')\n",
    "\n",
    "print('the value of num1 before swapping:{}'.format(num1))\n",
    "print('the value of num2 before swapping:{}'.format(num2))\n",
    "print('=================================================')\n",
    "temp =num1\n",
    "num1 =num2\n",
    "num2 =temp\n",
    "\n",
    "print('the value of num1 after swapping:{}'.format(num1))\n",
    "print('the value of num2 after swapping:{}'.format(num2))\n"
   ]
  },
  {
   "cell_type": "code",
   "execution_count": 12,
   "metadata": {},
   "outputs": [
    {
     "name": "stdout",
     "output_type": "stream",
     "text": [
      "the sorted words are\n",
      "an\n",
      "cased\n",
      "example\n",
      "hello\n",
      "is\n",
      "letters\n",
      "this\n",
      "with\n"
     ]
    }
   ],
   "source": [
    "my_str =\"Hello this is an example with cased letters\"\n",
    "words =[word.lower() for word in my_str.split()]\n",
    "words.sort()\n",
    "print(\"The sorted words are\")\n",
    "for word in words:\n",
    "    print(word)"
   ]
  },
  {
   "cell_type": "code",
   "execution_count": 15,
   "metadata": {},
   "outputs": [
    {
     "name": "stdout",
     "output_type": "stream",
     "text": [
      "N N N N N N N \t\n",
      "N\t \n",
      "N \n",
      "N \n",
      "N N N N N N N\n"
     ]
    }
   ],
   "source": [
    "print('N','N','N','N','N','N','N','\\t\\nN\\t','\\nN','\\nN','\\nN','N','N','N','N','N','N')"
   ]
  },
  {
   "cell_type": "code",
   "execution_count": 15,
   "metadata": {},
   "outputs": [
    {
     "name": "stdout",
     "output_type": "stream",
     "text": [
      "N N N N N \n",
      "N N N N N \n",
      "N N N N N \n",
      "N N N N N \n",
      "N N N N N\n"
     ]
    }
   ],
   "source": [
    "#square\n",
    "print('N','N','N','N','N','\\nN','N','N','N','N','\\nN','N','N','N','N','\\nN','N','N','N','N','\\nN','N','N','N','N')"
   ]
  },
  {
   "cell_type": "code",
   "execution_count": 12,
   "metadata": {},
   "outputs": [
    {
     "name": "stdout",
     "output_type": "stream",
     "text": [
      "N N N N N N N \n",
      "N N N N N N N \n",
      "N N N N N N N \n",
      "N N N N N N N\n"
     ]
    }
   ],
   "source": [
    "#Rectangle\n",
    "print('N','N','N','N','N','N','N','\\nN','N','N','N','N','N','N','\\nN','N','N','N','N','N','N','\\nN','N','N','N','N','N','N')"
   ]
  },
  {
   "cell_type": "code",
   "execution_count": 43,
   "metadata": {},
   "outputs": [
    {
     "name": "stdout",
     "output_type": "stream",
     "text": [
      "N \n",
      "N N \n",
      "N N N \n",
      "N N N N \n",
      "N N N N N\n"
     ]
    }
   ],
   "source": [
    "#Triangle\n",
    "print('N','\\nN','N','\\nN','N','N','\\nN','N','N','N','\\nN','N','N','N','N')"
   ]
  },
  {
   "cell_type": "code",
   "execution_count": null,
   "metadata": {},
   "outputs": [],
   "source": []
  }
 ],
 "metadata": {
  "kernelspec": {
   "display_name": "Python 3",
   "language": "python",
   "name": "python3"
  },
  "language_info": {
   "codemirror_mode": {
    "name": "ipython",
    "version": 3
   },
   "file_extension": ".py",
   "mimetype": "text/x-python",
   "name": "python",
   "nbconvert_exporter": "python",
   "pygments_lexer": "ipython3",
   "version": "3.8.5"
  }
 },
 "nbformat": 4,
 "nbformat_minor": 4
}
